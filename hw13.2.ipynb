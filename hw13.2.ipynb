{
 "cells": [
  {
   "cell_type": "code",
   "execution_count": 1,
   "metadata": {},
   "outputs": [],
   "source": [
    "import pandas as pd\n",
    "\n",
    "#paired\n",
    "df1 = pd.read_csv('/Users/mariiazelenskaia/Desktop/учеба👩🏻‍🔬/BiF💻/hw13/paired_condition_treated_results.csv', index_col = 0)\n",
    "\n",
    "#unpaired\n",
    "df2 = pd.read_csv('/Users/mariiazelenskaia/Desktop/учеба👩🏻‍🔬/BiF💻/hw13/unpaired_condition_treated_results.csv', index_col = 0)"
   ]
  },
  {
   "cell_type": "code",
   "execution_count": 2,
   "metadata": {},
   "outputs": [],
   "source": [
    "genes1 = df1.head(10).index\n",
    "genes2 = df2.head(10).index"
   ]
  },
  {
   "cell_type": "code",
   "execution_count": 3,
   "metadata": {
    "scrolled": true
   },
   "outputs": [
    {
     "data": {
      "text/plain": [
       "['CDH3', 'RP11-474D1.3', 'C2CD4A', 'GYLTL1B']"
      ]
     },
     "execution_count": 3,
     "metadata": {},
     "output_type": "execute_result"
    }
   ],
   "source": [
    "common = list(set(genes1) & set(genes2))\n",
    "common"
   ]
  },
  {
   "cell_type": "code",
   "execution_count": 4,
   "metadata": {},
   "outputs": [],
   "source": [
    "df1 = df1[(df1['padj'] < 0.05) & (df1['log2FoldChange'].abs() >= 1)]\n",
    "df2 = df2[(df2['padj'] < 0.05) & (df2['log2FoldChange'].abs() >= 1)]"
   ]
  },
  {
   "cell_type": "code",
   "execution_count": 5,
   "metadata": {},
   "outputs": [
    {
     "data": {
      "text/html": [
       "<div>\n",
       "<style scoped>\n",
       "    .dataframe tbody tr th:only-of-type {\n",
       "        vertical-align: middle;\n",
       "    }\n",
       "\n",
       "    .dataframe tbody tr th {\n",
       "        vertical-align: top;\n",
       "    }\n",
       "\n",
       "    .dataframe thead th {\n",
       "        text-align: right;\n",
       "    }\n",
       "</style>\n",
       "<table border=\"1\" class=\"dataframe\">\n",
       "  <thead>\n",
       "    <tr style=\"text-align: right;\">\n",
       "      <th></th>\n",
       "      <th>baseMean</th>\n",
       "      <th>log2FoldChange</th>\n",
       "      <th>lfcSE</th>\n",
       "      <th>pvalue</th>\n",
       "      <th>padj</th>\n",
       "    </tr>\n",
       "  </thead>\n",
       "  <tbody>\n",
       "    <tr>\n",
       "      <th>CDH3</th>\n",
       "      <td>1514.508985</td>\n",
       "      <td>7.188710</td>\n",
       "      <td>0.400967</td>\n",
       "      <td>5.266847e-76</td>\n",
       "      <td>8.842509e-72</td>\n",
       "    </tr>\n",
       "    <tr>\n",
       "      <th>GYLTL1B</th>\n",
       "      <td>1236.554809</td>\n",
       "      <td>5.674997</td>\n",
       "      <td>0.366847</td>\n",
       "      <td>1.201853e-56</td>\n",
       "      <td>1.008896e-52</td>\n",
       "    </tr>\n",
       "    <tr>\n",
       "      <th>C2CD4A</th>\n",
       "      <td>543.941121</td>\n",
       "      <td>5.388573</td>\n",
       "      <td>0.364641</td>\n",
       "      <td>3.293407e-51</td>\n",
       "      <td>1.843100e-47</td>\n",
       "    </tr>\n",
       "    <tr>\n",
       "      <th>RP11-474D1.3</th>\n",
       "      <td>428.358064</td>\n",
       "      <td>9.312236</td>\n",
       "      <td>0.644642</td>\n",
       "      <td>7.640727e-50</td>\n",
       "      <td>3.207004e-46</td>\n",
       "    </tr>\n",
       "    <tr>\n",
       "      <th>MMP7</th>\n",
       "      <td>1078.701661</td>\n",
       "      <td>8.553333</td>\n",
       "      <td>0.599580</td>\n",
       "      <td>2.128313e-49</td>\n",
       "      <td>7.146450e-46</td>\n",
       "    </tr>\n",
       "    <tr>\n",
       "      <th>...</th>\n",
       "      <td>...</td>\n",
       "      <td>...</td>\n",
       "      <td>...</td>\n",
       "      <td>...</td>\n",
       "      <td>...</td>\n",
       "    </tr>\n",
       "    <tr>\n",
       "      <th>CTD-2328D6.1</th>\n",
       "      <td>34.505490</td>\n",
       "      <td>1.047002</td>\n",
       "      <td>0.616923</td>\n",
       "      <td>1.449995e-02</td>\n",
       "      <td>4.905092e-02</td>\n",
       "    </tr>\n",
       "    <tr>\n",
       "      <th>PTPLA</th>\n",
       "      <td>120.004232</td>\n",
       "      <td>-1.032291</td>\n",
       "      <td>0.742479</td>\n",
       "      <td>1.457625e-02</td>\n",
       "      <td>4.924949e-02</td>\n",
       "    </tr>\n",
       "    <tr>\n",
       "      <th>ESR2</th>\n",
       "      <td>23.669380</td>\n",
       "      <td>-1.104406</td>\n",
       "      <td>0.690013</td>\n",
       "      <td>1.460487e-02</td>\n",
       "      <td>4.932631e-02</td>\n",
       "    </tr>\n",
       "    <tr>\n",
       "      <th>IGKV1-27</th>\n",
       "      <td>714.365867</td>\n",
       "      <td>-1.038479</td>\n",
       "      <td>0.780931</td>\n",
       "      <td>1.477438e-02</td>\n",
       "      <td>4.981867e-02</td>\n",
       "    </tr>\n",
       "    <tr>\n",
       "      <th>SOX15</th>\n",
       "      <td>44.942717</td>\n",
       "      <td>-1.039000</td>\n",
       "      <td>0.653949</td>\n",
       "      <td>1.478033e-02</td>\n",
       "      <td>4.981869e-02</td>\n",
       "    </tr>\n",
       "  </tbody>\n",
       "</table>\n",
       "<p>3847 rows × 5 columns</p>\n",
       "</div>"
      ],
      "text/plain": [
       "                 baseMean  log2FoldChange     lfcSE        pvalue  \\\n",
       "CDH3          1514.508985        7.188710  0.400967  5.266847e-76   \n",
       "GYLTL1B       1236.554809        5.674997  0.366847  1.201853e-56   \n",
       "C2CD4A         543.941121        5.388573  0.364641  3.293407e-51   \n",
       "RP11-474D1.3   428.358064        9.312236  0.644642  7.640727e-50   \n",
       "MMP7          1078.701661        8.553333  0.599580  2.128313e-49   \n",
       "...                   ...             ...       ...           ...   \n",
       "CTD-2328D6.1    34.505490        1.047002  0.616923  1.449995e-02   \n",
       "PTPLA          120.004232       -1.032291  0.742479  1.457625e-02   \n",
       "ESR2            23.669380       -1.104406  0.690013  1.460487e-02   \n",
       "IGKV1-27       714.365867       -1.038479  0.780931  1.477438e-02   \n",
       "SOX15           44.942717       -1.039000  0.653949  1.478033e-02   \n",
       "\n",
       "                      padj  \n",
       "CDH3          8.842509e-72  \n",
       "GYLTL1B       1.008896e-52  \n",
       "C2CD4A        1.843100e-47  \n",
       "RP11-474D1.3  3.207004e-46  \n",
       "MMP7          7.146450e-46  \n",
       "...                    ...  \n",
       "CTD-2328D6.1  4.905092e-02  \n",
       "PTPLA         4.924949e-02  \n",
       "ESR2          4.932631e-02  \n",
       "IGKV1-27      4.981867e-02  \n",
       "SOX15         4.981869e-02  \n",
       "\n",
       "[3847 rows x 5 columns]"
      ]
     },
     "execution_count": 5,
     "metadata": {},
     "output_type": "execute_result"
    }
   ],
   "source": [
    "df1"
   ]
  },
  {
   "cell_type": "code",
   "execution_count": 6,
   "metadata": {
    "scrolled": false
   },
   "outputs": [
    {
     "data": {
      "text/html": [
       "<div>\n",
       "<style scoped>\n",
       "    .dataframe tbody tr th:only-of-type {\n",
       "        vertical-align: middle;\n",
       "    }\n",
       "\n",
       "    .dataframe tbody tr th {\n",
       "        vertical-align: top;\n",
       "    }\n",
       "\n",
       "    .dataframe thead th {\n",
       "        text-align: right;\n",
       "    }\n",
       "</style>\n",
       "<table border=\"1\" class=\"dataframe\">\n",
       "  <thead>\n",
       "    <tr style=\"text-align: right;\">\n",
       "      <th></th>\n",
       "      <th>baseMean</th>\n",
       "      <th>log2FoldChange</th>\n",
       "      <th>lfcSE</th>\n",
       "      <th>pvalue</th>\n",
       "      <th>padj</th>\n",
       "    </tr>\n",
       "  </thead>\n",
       "  <tbody>\n",
       "    <tr>\n",
       "      <th>RP11-474D1.3</th>\n",
       "      <td>428.358064</td>\n",
       "      <td>9.178134</td>\n",
       "      <td>0.593908</td>\n",
       "      <td>1.364930e-54</td>\n",
       "      <td>2.262371e-50</td>\n",
       "    </tr>\n",
       "    <tr>\n",
       "      <th>CDH3</th>\n",
       "      <td>1514.508985</td>\n",
       "      <td>7.240486</td>\n",
       "      <td>0.530773</td>\n",
       "      <td>9.231125e-44</td>\n",
       "      <td>7.650295e-40</td>\n",
       "    </tr>\n",
       "    <tr>\n",
       "      <th>MMP11</th>\n",
       "      <td>3691.591790</td>\n",
       "      <td>5.176798</td>\n",
       "      <td>0.405912</td>\n",
       "      <td>1.842664e-38</td>\n",
       "      <td>1.018072e-34</td>\n",
       "    </tr>\n",
       "    <tr>\n",
       "      <th>WNT2</th>\n",
       "      <td>200.409369</td>\n",
       "      <td>5.736149</td>\n",
       "      <td>0.463340</td>\n",
       "      <td>1.835779e-36</td>\n",
       "      <td>7.607009e-33</td>\n",
       "    </tr>\n",
       "    <tr>\n",
       "      <th>ATG9B</th>\n",
       "      <td>165.549271</td>\n",
       "      <td>4.310814</td>\n",
       "      <td>0.349275</td>\n",
       "      <td>2.897243e-36</td>\n",
       "      <td>9.604360e-33</td>\n",
       "    </tr>\n",
       "    <tr>\n",
       "      <th>...</th>\n",
       "      <td>...</td>\n",
       "      <td>...</td>\n",
       "      <td>...</td>\n",
       "      <td>...</td>\n",
       "      <td>...</td>\n",
       "    </tr>\n",
       "    <tr>\n",
       "      <th>DENND1B</th>\n",
       "      <td>744.818969</td>\n",
       "      <td>-1.003693</td>\n",
       "      <td>0.524174</td>\n",
       "      <td>1.486115e-02</td>\n",
       "      <td>4.972217e-02</td>\n",
       "    </tr>\n",
       "    <tr>\n",
       "      <th>RP11-1055B8.1</th>\n",
       "      <td>18.978110</td>\n",
       "      <td>1.192701</td>\n",
       "      <td>0.731773</td>\n",
       "      <td>1.492571e-02</td>\n",
       "      <td>4.986589e-02</td>\n",
       "    </tr>\n",
       "    <tr>\n",
       "      <th>PRRX1</th>\n",
       "      <td>392.304733</td>\n",
       "      <td>1.312071</td>\n",
       "      <td>0.827157</td>\n",
       "      <td>1.492818e-02</td>\n",
       "      <td>4.986589e-02</td>\n",
       "    </tr>\n",
       "    <tr>\n",
       "      <th>MMP9</th>\n",
       "      <td>1326.532719</td>\n",
       "      <td>1.333303</td>\n",
       "      <td>0.852935</td>\n",
       "      <td>1.494657e-02</td>\n",
       "      <td>4.990720e-02</td>\n",
       "    </tr>\n",
       "    <tr>\n",
       "      <th>IGHV3-15</th>\n",
       "      <td>1762.680332</td>\n",
       "      <td>-1.315619</td>\n",
       "      <td>0.869113</td>\n",
       "      <td>1.496973e-02</td>\n",
       "      <td>4.997447e-02</td>\n",
       "    </tr>\n",
       "  </tbody>\n",
       "</table>\n",
       "<p>3698 rows × 5 columns</p>\n",
       "</div>"
      ],
      "text/plain": [
       "                  baseMean  log2FoldChange     lfcSE        pvalue  \\\n",
       "RP11-474D1.3    428.358064        9.178134  0.593908  1.364930e-54   \n",
       "CDH3           1514.508985        7.240486  0.530773  9.231125e-44   \n",
       "MMP11          3691.591790        5.176798  0.405912  1.842664e-38   \n",
       "WNT2            200.409369        5.736149  0.463340  1.835779e-36   \n",
       "ATG9B           165.549271        4.310814  0.349275  2.897243e-36   \n",
       "...                    ...             ...       ...           ...   \n",
       "DENND1B         744.818969       -1.003693  0.524174  1.486115e-02   \n",
       "RP11-1055B8.1    18.978110        1.192701  0.731773  1.492571e-02   \n",
       "PRRX1           392.304733        1.312071  0.827157  1.492818e-02   \n",
       "MMP9           1326.532719        1.333303  0.852935  1.494657e-02   \n",
       "IGHV3-15       1762.680332       -1.315619  0.869113  1.496973e-02   \n",
       "\n",
       "                       padj  \n",
       "RP11-474D1.3   2.262371e-50  \n",
       "CDH3           7.650295e-40  \n",
       "MMP11          1.018072e-34  \n",
       "WNT2           7.607009e-33  \n",
       "ATG9B          9.604360e-33  \n",
       "...                     ...  \n",
       "DENND1B        4.972217e-02  \n",
       "RP11-1055B8.1  4.986589e-02  \n",
       "PRRX1          4.986589e-02  \n",
       "MMP9           4.990720e-02  \n",
       "IGHV3-15       4.997447e-02  \n",
       "\n",
       "[3698 rows x 5 columns]"
      ]
     },
     "execution_count": 6,
     "metadata": {},
     "output_type": "execute_result"
    }
   ],
   "source": [
    "df2"
   ]
  },
  {
   "cell_type": "markdown",
   "metadata": {},
   "source": [
    "paired"
   ]
  },
  {
   "cell_type": "code",
   "execution_count": 7,
   "metadata": {},
   "outputs": [
    {
     "data": {
      "text/plain": [
       "(3847, 5)"
      ]
     },
     "execution_count": 7,
     "metadata": {},
     "output_type": "execute_result"
    }
   ],
   "source": [
    "df1.shape"
   ]
  },
  {
   "cell_type": "markdown",
   "metadata": {},
   "source": [
    "unpaired"
   ]
  },
  {
   "cell_type": "code",
   "execution_count": 8,
   "metadata": {},
   "outputs": [
    {
     "data": {
      "text/plain": [
       "(3698, 5)"
      ]
     },
     "execution_count": 8,
     "metadata": {},
     "output_type": "execute_result"
    }
   ],
   "source": [
    "df2.shape"
   ]
  }
 ],
 "metadata": {
  "kernelspec": {
   "display_name": "Python 3",
   "language": "python",
   "name": "python3"
  },
  "language_info": {
   "codemirror_mode": {
    "name": "ipython",
    "version": 3
   },
   "file_extension": ".py",
   "mimetype": "text/x-python",
   "name": "python",
   "nbconvert_exporter": "python",
   "pygments_lexer": "ipython3",
   "version": "3.7.9"
  }
 },
 "nbformat": 4,
 "nbformat_minor": 4
}
